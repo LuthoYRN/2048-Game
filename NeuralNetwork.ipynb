{
  "nbformat": 4,
  "nbformat_minor": 0,
  "metadata": {
    "colab": {
      "provenance": [],
      "gpuType": "T4",
      "authorship_tag": "ABX9TyNdaSgZbDK4fnjW1N5KaW+J",
      "include_colab_link": true
    },
    "kernelspec": {
      "name": "python3",
      "display_name": "Python 3"
    },
    "language_info": {
      "name": "python"
    },
    "accelerator": "GPU"
  },
  "cells": [
    {
      "cell_type": "markdown",
      "metadata": {
        "id": "view-in-github",
        "colab_type": "text"
      },
      "source": [
        "<a href=\"https://colab.research.google.com/github/LuthoYRN/2048-Game/blob/master/NeuralNetwork.ipynb\" target=\"_parent\"><img src=\"https://colab.research.google.com/assets/colab-badge.svg\" alt=\"Open In Colab\"/></a>"
      ]
    },
    {
      "cell_type": "markdown",
      "source": [
        "# 🎵 Urban Sound Classification using Deep Learning\n",
        "\n",
        "**Project:** CSC4025Z Assignment 2 - Neural Network Application  \n",
        "**Dataset:** Urban Sound 8K (8,732 audio samples, 10 classes)  \n",
        "**Task:** Multi-class audio classification  \n",
        "\n",
        "---\n",
        "\n",
        "## Project Overview\n",
        "\n",
        "This notebook implements and compares two approaches for urban sound classification:\n",
        "\n",
        "1. **Baseline:** Naive Bayes Classifier\n",
        "2. **Neural Network:** Artificial Neural Network (ANN)\n",
        "\n",
        "---\n",
        "\n",
        "## Dataset: Urban Sound 8K\n",
        "\n",
        "**Classes (10):**\n",
        "1. air_conditioner\n",
        "2. car_horn\n",
        "3. children_playing\n",
        "4. dog_bark\n",
        "5. drilling\n",
        "6. engine_idling\n",
        "7. gun_shot\n",
        "8. jackhammer\n",
        "9. siren\n",
        "10. street_music\n",
        "\n",
        "**Samples:** 8,732 audio files (4 seconds each)  "
      ],
      "metadata": {
        "id": "XOX4Gxs3m0mM"
      }
    },
    {
      "cell_type": "markdown",
      "source": [
        "# Setting Up\n",
        "\n"
      ],
      "metadata": {
        "id": "uO1DgIIdnsoE"
      }
    },
    {
      "cell_type": "code",
      "source": [
        "import torch\n",
        "import sys\n",
        "\n",
        "print(\"=\"*70)\n",
        "print(\"SYSTEM INFORMATION\")\n",
        "print(\"=\"*70)\n",
        "\n",
        "# Check Python version\n",
        "print(f\"Python version: {sys.version}\")\n",
        "\n",
        "# Check PyTorch version\n",
        "print(f\"PyTorch version: {torch.__version__}\")\n",
        "\n",
        "# Check CUDA availability\n",
        "if torch.cuda.is_available():\n",
        "    print(f\"GPU Available: {torch.cuda.get_device_name(0)}\")\n",
        "    print(f\"CUDA Version: {torch.version.cuda}\")\n",
        "    print(f\"Number of GPUs: {torch.cuda.device_count()}\")\n",
        "    device = torch.device('cuda')\n",
        "else:\n",
        "    print(\"WARNING: GPU not available, using CPU\")\n",
        "    device = torch.device('cpu')\n",
        "\n",
        "print(f\"\\nUsing device: {device}\")\n",
        "print(\"=\"*70)"
      ],
      "metadata": {
        "colab": {
          "base_uri": "https://localhost:8080/"
        },
        "id": "Q9qnMyAZnTo9",
        "outputId": "acbedd69-7125-43f6-9454-9c431baa14e9"
      },
      "execution_count": 1,
      "outputs": [
        {
          "output_type": "stream",
          "name": "stdout",
          "text": [
            "======================================================================\n",
            "SYSTEM INFORMATION\n",
            "======================================================================\n",
            "Python version: 3.12.12 (main, Oct 10 2025, 08:52:57) [GCC 11.4.0]\n",
            "PyTorch version: 2.8.0+cu126\n",
            "GPU Available: Tesla T4\n",
            "CUDA Version: 12.6\n",
            "Number of GPUs: 1\n",
            "\n",
            "Using device: cuda\n",
            "======================================================================\n"
          ]
        }
      ]
    },
    {
      "cell_type": "code",
      "source": [
        "print(\"=\"*70)\n",
        "print(\"INSTALLING REQUIRED LIBRARIES\")\n",
        "print(\"=\"*70)\n",
        "\n",
        "# Install audio processing libraries\n",
        "!pip install -q librosa soundfile\n",
        "\n",
        "# Verify installations\n",
        "import librosa\n",
        "import soundfile as sf\n",
        "\n",
        "print(f\"librosa version: {librosa.__version__}\")\n",
        "print(\"soundfile installed successfully\")\n",
        "print(\"=\"*70)\n",
        "print(\"All libraries installed!\")\n",
        "print(\"=\"*70)"
      ],
      "metadata": {
        "colab": {
          "base_uri": "https://localhost:8080/"
        },
        "id": "5c1PsZVLoxzU",
        "outputId": "5962379e-7c10-47af-cc2d-3b0822981c04"
      },
      "execution_count": 2,
      "outputs": [
        {
          "output_type": "stream",
          "name": "stdout",
          "text": [
            "======================================================================\n",
            "INSTALLING REQUIRED LIBRARIES\n",
            "======================================================================\n",
            "librosa version: 0.11.0\n",
            "soundfile installed successfully\n",
            "======================================================================\n",
            "All libraries installed!\n",
            "======================================================================\n"
          ]
        }
      ]
    },
    {
      "cell_type": "code",
      "source": [
        "from google.colab import drive\n",
        "import os\n",
        "\n",
        "print(\"=\"*70)\n",
        "print(\"MOUNTING GOOGLE DRIVE\")\n",
        "print(\"=\"*70)\n",
        "\n",
        "# Mount Google Drive\n",
        "drive.mount('/content/drive')\n",
        "\n",
        "# Create project directory\n",
        "PROJECT_DIR = '/content/drive/MyDrive/UrbanSound_Project'\n",
        "os.makedirs(PROJECT_DIR, exist_ok=True)\n",
        "\n",
        "# Create subdirectories\n",
        "os.makedirs(f'{PROJECT_DIR}/data', exist_ok=True)\n",
        "os.makedirs(f'{PROJECT_DIR}/models', exist_ok=True)\n",
        "os.makedirs(f'{PROJECT_DIR}/results', exist_ok=True)\n",
        "os.makedirs(f'{PROJECT_DIR}/figures', exist_ok=True)\n",
        "\n",
        "print(f\"\\nGoogle Drive mounted successfully!\")\n",
        "print(f\"Project directory: {PROJECT_DIR}\")\n",
        "print(f\"\\nCreated subdirectories:\")\n",
        "print(f\"   - {PROJECT_DIR}/data\")\n",
        "print(f\"   - {PROJECT_DIR}/models\")\n",
        "print(f\"   - {PROJECT_DIR}/results\")\n",
        "print(f\"   - {PROJECT_DIR}/figures\")\n",
        "print(\"=\"*70)"
      ],
      "metadata": {
        "colab": {
          "base_uri": "https://localhost:8080/"
        },
        "id": "hXgCBMiDpP29",
        "outputId": "60d33866-7663-4de0-e863-37c8cbda6df9"
      },
      "execution_count": 3,
      "outputs": [
        {
          "output_type": "stream",
          "name": "stdout",
          "text": [
            "======================================================================\n",
            "MOUNTING GOOGLE DRIVE\n",
            "======================================================================\n",
            "Mounted at /content/drive\n",
            "\n",
            "Google Drive mounted successfully!\n",
            "Project directory: /content/drive/MyDrive/UrbanSound_Project\n",
            "\n",
            "Created subdirectories:\n",
            "   - /content/drive/MyDrive/UrbanSound_Project/data\n",
            "   - /content/drive/MyDrive/UrbanSound_Project/models\n",
            "   - /content/drive/MyDrive/UrbanSound_Project/results\n",
            "   - /content/drive/MyDrive/UrbanSound_Project/figures\n",
            "======================================================================\n"
          ]
        }
      ]
    },
    {
      "cell_type": "code",
      "source": [
        "print(\"=\"*70)\n",
        "print(\"IMPORTING LIBRARIES\")\n",
        "print(\"=\"*70)\n",
        "\n",
        "# Standard libraries\n",
        "import numpy as np\n",
        "import pandas as pd\n",
        "import matplotlib.pyplot as plt\n",
        "import seaborn as sns\n",
        "from tqdm import tqdm\n",
        "import warnings\n",
        "import json\n",
        "import pickle\n",
        "from pathlib import Path\n",
        "\n",
        "# Audio processing\n",
        "import librosa\n",
        "import librosa.display\n",
        "import soundfile as sf\n",
        "\n",
        "# Machine Learning\n",
        "from sklearn.model_selection import train_test_split\n",
        "from sklearn.preprocessing import StandardScaler, LabelEncoder\n",
        "from sklearn.naive_bayes import GaussianNB\n",
        "from sklearn.metrics import (\n",
        "    accuracy_score,\n",
        "    precision_score,\n",
        "    recall_score,\n",
        "    f1_score,\n",
        "    classification_report,\n",
        "    confusion_matrix\n",
        ")\n",
        "\n",
        "# Deep Learning\n",
        "import torch\n",
        "import torch.nn as nn\n",
        "import torch.optim as optim\n",
        "from torch.utils.data import Dataset, DataLoader, TensorDataset\n",
        "\n",
        "# Seting random seeds for reproducibility\n",
        "RANDOM_SEED = 42\n",
        "np.random.seed(RANDOM_SEED)\n",
        "torch.manual_seed(RANDOM_SEED)\n",
        "if torch.cuda.is_available():\n",
        "    torch.cuda.manual_seed(RANDOM_SEED)\n",
        "    torch.cuda.manual_seed_all(RANDOM_SEED)\n",
        "    torch.backends.cudnn.deterministic = True\n",
        "    torch.backends.cudnn.benchmark = False\n",
        "\n",
        "# Plotting settings\n",
        "plt.style.use('seaborn-v0_8-darkgrid')\n",
        "sns.set_palette(\"husl\")\n",
        "warnings.filterwarnings('ignore')\n",
        "\n",
        "# Display settings\n",
        "pd.set_option('display.max_columns', None)\n",
        "pd.set_option('display.max_rows', 100)\n",
        "\n",
        "print(\"All libraries imported successfully!\")\n",
        "print(f\"Random seed set to: {RANDOM_SEED}\")\n",
        "print(f\"Device: {device}\")\n",
        "print(\"=\"*70)"
      ],
      "metadata": {
        "colab": {
          "base_uri": "https://localhost:8080/"
        },
        "id": "8kbkRYNMqBNg",
        "outputId": "82dcc32c-5ecd-4e9f-a76d-dcee2a25e91b"
      },
      "execution_count": 4,
      "outputs": [
        {
          "output_type": "stream",
          "name": "stdout",
          "text": [
            "======================================================================\n",
            "IMPORTING LIBRARIES\n",
            "======================================================================\n",
            "All libraries imported successfully!\n",
            "Random seed set to: 42\n",
            "Device: cuda\n",
            "======================================================================\n"
          ]
        }
      ]
    },
    {
      "cell_type": "code",
      "source": [
        "print(\"=\"*70)\n",
        "print(\"GLOBAL CONFIGURATION\")\n",
        "print(\"=\"*70)\n",
        "\n",
        "# Configuration dictionary\n",
        "CONFIG = {\n",
        "    # Paths\n",
        "    'project_dir': PROJECT_DIR,\n",
        "    'data_dir': f'{PROJECT_DIR}/data',\n",
        "    'models_dir': f'{PROJECT_DIR}/models',\n",
        "    'results_dir': f'{PROJECT_DIR}/results',\n",
        "    'figures_dir': f'{PROJECT_DIR}/figures',\n",
        "\n",
        "    # Audio parameters\n",
        "    'sample_rate': 22050,\n",
        "    'duration': 4,\n",
        "    'n_mfcc': 120,  # Based on Barua et al. (2023)\n",
        "\n",
        "    # Dataset parameters\n",
        "    'n_classes': 10,\n",
        "    'class_names': [\n",
        "        'air_conditioner',\n",
        "        'car_horn',\n",
        "        'children_playing',\n",
        "        'dog_bark',\n",
        "        'drilling',\n",
        "        'engine_idling',\n",
        "        'gun_shot',\n",
        "        'jackhammer',\n",
        "        'siren',\n",
        "        'street_music'\n",
        "    ],\n",
        "\n",
        "    # Training parameters\n",
        "    'test_size': 0.2,\n",
        "    'batch_size': 400,  # Based on Barua et al. (2023)\n",
        "    'learning_rate': 0.001, #Start value\n",
        "    'num_epochs': 100,  # Start value\n",
        "    'early_stopping_patience': 20,\n",
        "\n",
        "    # Model architecture (Based on Barua et al. 2023)\n",
        "    'hidden_layers': [1000, 750, 500, 250, 100],\n",
        "    'dropout_rate': 0.5,\n",
        "\n",
        "    # Random seed\n",
        "    'random_seed': RANDOM_SEED,\n",
        "    'device': str(device)\n",
        "}\n",
        "\n",
        "# Save configuration\n",
        "with open(f\"{CONFIG['results_dir']}/config.json\", 'w') as f:\n",
        "    json.dump(CONFIG, f, indent=4)\n",
        "\n",
        "# Display configuration\n",
        "print(\"\\nConfiguration:\")\n",
        "for key, value in CONFIG.items():\n",
        "    if key != 'class_names':  # Skip long list\n",
        "        print(f\"   {key}: {value}\")\n",
        "    else:\n",
        "        print(f\"   {key}: {len(value)} classes\")\n",
        "\n",
        "print(f\"\\nConfiguration saved to: {CONFIG['results_dir']}/config.json\")\n",
        "print(\"=\"*70)"
      ],
      "metadata": {
        "colab": {
          "base_uri": "https://localhost:8080/"
        },
        "id": "UJmUFzdVqq74",
        "outputId": "35ab1483-0621-4687-adf9-1c8010f09c44"
      },
      "execution_count": 5,
      "outputs": [
        {
          "output_type": "stream",
          "name": "stdout",
          "text": [
            "======================================================================\n",
            "GLOBAL CONFIGURATION\n",
            "======================================================================\n",
            "\n",
            "Configuration:\n",
            "   project_dir: /content/drive/MyDrive/UrbanSound_Project\n",
            "   data_dir: /content/drive/MyDrive/UrbanSound_Project/data\n",
            "   models_dir: /content/drive/MyDrive/UrbanSound_Project/models\n",
            "   results_dir: /content/drive/MyDrive/UrbanSound_Project/results\n",
            "   figures_dir: /content/drive/MyDrive/UrbanSound_Project/figures\n",
            "   sample_rate: 22050\n",
            "   duration: 4\n",
            "   n_mfcc: 120\n",
            "   n_classes: 10\n",
            "   class_names: 10 classes\n",
            "   test_size: 0.2\n",
            "   batch_size: 400\n",
            "   learning_rate: 0.001\n",
            "   num_epochs: 100\n",
            "   early_stopping_patience: 20\n",
            "   hidden_layers: [1000, 750, 500, 250, 100]\n",
            "   dropout_rate: 0.5\n",
            "   random_seed: 42\n",
            "   device: cuda\n",
            "\n",
            "Configuration saved to: /content/drive/MyDrive/UrbanSound_Project/results/config.json\n",
            "======================================================================\n"
          ]
        }
      ]
    }
  ]
}